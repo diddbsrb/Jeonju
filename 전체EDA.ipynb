{
 "cells": [
  {
   "cell_type": "code",
   "execution_count": 1,
   "metadata": {},
   "outputs": [],
   "source": [
    "# numerical calculation & data frames\n",
    "import numpy as np\n",
    "import pandas as pd\n",
    "\n",
    "# visualization\n",
    "import matplotlib.pyplot as plt\n",
    "import seaborn as sns\n",
    "import seaborn.objects as so\n",
    "\n",
    "# statistics\n",
    "import statsmodels.api as sm\n",
    "\n",
    "# pandas options\n",
    "pd.set_option('mode.copy_on_write', True)  # pandas 2.0\n",
    "pd.options.display.float_format = '{:.2f}'.format  # pd.reset_option('display.float_format')\n",
    "pd.options.display.max_rows = 7  # max number of rows to display\n",
    "\n",
    "# NumPy options\n",
    "np.set_printoptions(precision = 2, suppress=True)  # suppress scientific notation\n",
    "\n",
    "# For high resolution display\n",
    "import matplotlib_inline\n",
    "matplotlib_inline.backend_inline.set_matplotlib_formats(\"retina\")"
   ]
  },
  {
   "cell_type": "code",
   "execution_count": 4,
   "metadata": {},
   "outputs": [
    {
     "data": {
      "text/html": [
       "<div>\n",
       "<style scoped>\n",
       "    .dataframe tbody tr th:only-of-type {\n",
       "        vertical-align: middle;\n",
       "    }\n",
       "\n",
       "    .dataframe tbody tr th {\n",
       "        vertical-align: top;\n",
       "    }\n",
       "\n",
       "    .dataframe thead th {\n",
       "        text-align: right;\n",
       "    }\n",
       "</style>\n",
       "<table border=\"1\" class=\"dataframe\">\n",
       "  <thead>\n",
       "    <tr style=\"text-align: right;\">\n",
       "      <th></th>\n",
       "      <th>구급보고서번호</th>\n",
       "      <th>등록완료구분명</th>\n",
       "      <th>환자발생유형구분명</th>\n",
       "      <th>교통사고명</th>\n",
       "      <th>교통사고기타명</th>\n",
       "      <th>소방서명</th>\n",
       "      <th>서센터명</th>\n",
       "      <th>소방지역대명</th>\n",
       "      <th>구급활동구분명</th>\n",
       "      <th>헬리콥터펌뷸런스유무명</th>\n",
       "      <th>...</th>\n",
       "      <th>현장거리2</th>\n",
       "      <th>재이송사유2</th>\n",
       "      <th>이송분류명</th>\n",
       "      <th>이송분류사유</th>\n",
       "      <th>시간단위기온</th>\n",
       "      <th>시간단위강수량</th>\n",
       "      <th>시간단위풍속</th>\n",
       "      <th>시간단위풍향</th>\n",
       "      <th>시간단위습도</th>\n",
       "      <th>시간단위적설량</th>\n",
       "    </tr>\n",
       "  </thead>\n",
       "  <tbody>\n",
       "    <tr>\n",
       "      <th>0</th>\n",
       "      <td>20224511302M00001</td>\n",
       "      <td>등록완료</td>\n",
       "      <td>질병외</td>\n",
       "      <td>운전자</td>\n",
       "      <td>NaN</td>\n",
       "      <td>완주소방서</td>\n",
       "      <td>삼례119안전센터</td>\n",
       "      <td>NaN</td>\n",
       "      <td>특수일반</td>\n",
       "      <td>NaN</td>\n",
       "      <td>...</td>\n",
       "      <td>NaN</td>\n",
       "      <td>NaN</td>\n",
       "      <td>이송</td>\n",
       "      <td>NaN</td>\n",
       "      <td>-4.90</td>\n",
       "      <td>NaN</td>\n",
       "      <td>0.90</td>\n",
       "      <td>70.00</td>\n",
       "      <td>51.00</td>\n",
       "      <td>NaN</td>\n",
       "    </tr>\n",
       "    <tr>\n",
       "      <th>1</th>\n",
       "      <td>20224501101M00006</td>\n",
       "      <td>등록완료</td>\n",
       "      <td>질병외</td>\n",
       "      <td>오토바이사고</td>\n",
       "      <td>NaN</td>\n",
       "      <td>전주덕진소방서</td>\n",
       "      <td>금암119안전센터</td>\n",
       "      <td>NaN</td>\n",
       "      <td>특수일반</td>\n",
       "      <td>NaN</td>\n",
       "      <td>...</td>\n",
       "      <td>NaN</td>\n",
       "      <td>NaN</td>\n",
       "      <td>이송</td>\n",
       "      <td>NaN</td>\n",
       "      <td>1.70</td>\n",
       "      <td>NaN</td>\n",
       "      <td>1.30</td>\n",
       "      <td>360.00</td>\n",
       "      <td>31.00</td>\n",
       "      <td>NaN</td>\n",
       "    </tr>\n",
       "    <tr>\n",
       "      <th>2</th>\n",
       "      <td>20224501102M00004</td>\n",
       "      <td>등록완료</td>\n",
       "      <td>질병외</td>\n",
       "      <td>오토바이사고</td>\n",
       "      <td>NaN</td>\n",
       "      <td>전주덕진소방서</td>\n",
       "      <td>팔복119안전센터</td>\n",
       "      <td>NaN</td>\n",
       "      <td>특수일반</td>\n",
       "      <td>NaN</td>\n",
       "      <td>...</td>\n",
       "      <td>NaN</td>\n",
       "      <td>NaN</td>\n",
       "      <td>이송</td>\n",
       "      <td>NaN</td>\n",
       "      <td>2.20</td>\n",
       "      <td>NaN</td>\n",
       "      <td>1.30</td>\n",
       "      <td>320.00</td>\n",
       "      <td>31.00</td>\n",
       "      <td>NaN</td>\n",
       "    </tr>\n",
       "    <tr>\n",
       "      <th>...</th>\n",
       "      <td>...</td>\n",
       "      <td>...</td>\n",
       "      <td>...</td>\n",
       "      <td>...</td>\n",
       "      <td>...</td>\n",
       "      <td>...</td>\n",
       "      <td>...</td>\n",
       "      <td>...</td>\n",
       "      <td>...</td>\n",
       "      <td>...</td>\n",
       "      <td>...</td>\n",
       "      <td>...</td>\n",
       "      <td>...</td>\n",
       "      <td>...</td>\n",
       "      <td>...</td>\n",
       "      <td>...</td>\n",
       "      <td>...</td>\n",
       "      <td>...</td>\n",
       "      <td>...</td>\n",
       "      <td>...</td>\n",
       "      <td>...</td>\n",
       "    </tr>\n",
       "    <tr>\n",
       "      <th>6737</th>\n",
       "      <td>20204502102M04996</td>\n",
       "      <td>등록완료</td>\n",
       "      <td>질병외</td>\n",
       "      <td>오토바이사고</td>\n",
       "      <td>NaN</td>\n",
       "      <td>전주완산소방서</td>\n",
       "      <td>효자119안전센터</td>\n",
       "      <td>NaN</td>\n",
       "      <td>특수일반</td>\n",
       "      <td>NaN</td>\n",
       "      <td>...</td>\n",
       "      <td>NaN</td>\n",
       "      <td>NaN</td>\n",
       "      <td>이송</td>\n",
       "      <td>NaN</td>\n",
       "      <td>-5.30</td>\n",
       "      <td>NaN</td>\n",
       "      <td>1.80</td>\n",
       "      <td>340.00</td>\n",
       "      <td>56.00</td>\n",
       "      <td>1.60</td>\n",
       "    </tr>\n",
       "    <tr>\n",
       "      <th>6738</th>\n",
       "      <td>20204501105M02811</td>\n",
       "      <td>등록완료</td>\n",
       "      <td>질병외</td>\n",
       "      <td>보행자</td>\n",
       "      <td>NaN</td>\n",
       "      <td>전주덕진소방서</td>\n",
       "      <td>전미119안전센터</td>\n",
       "      <td>NaN</td>\n",
       "      <td>특수일반</td>\n",
       "      <td>NaN</td>\n",
       "      <td>...</td>\n",
       "      <td>NaN</td>\n",
       "      <td>NaN</td>\n",
       "      <td>이송</td>\n",
       "      <td>NaN</td>\n",
       "      <td>-3.70</td>\n",
       "      <td>NaN</td>\n",
       "      <td>0.20</td>\n",
       "      <td>0.00</td>\n",
       "      <td>52.00</td>\n",
       "      <td>1.40</td>\n",
       "    </tr>\n",
       "    <tr>\n",
       "      <th>6739</th>\n",
       "      <td>20204502104M02966</td>\n",
       "      <td>등록완료</td>\n",
       "      <td>질병외</td>\n",
       "      <td>보행자</td>\n",
       "      <td>NaN</td>\n",
       "      <td>전주완산소방서</td>\n",
       "      <td>노송119안전센터</td>\n",
       "      <td>NaN</td>\n",
       "      <td>특수일반</td>\n",
       "      <td>NaN</td>\n",
       "      <td>...</td>\n",
       "      <td>NaN</td>\n",
       "      <td>NaN</td>\n",
       "      <td>이송</td>\n",
       "      <td>NaN</td>\n",
       "      <td>-2.30</td>\n",
       "      <td>NaN</td>\n",
       "      <td>1.30</td>\n",
       "      <td>320.00</td>\n",
       "      <td>92.00</td>\n",
       "      <td>3.30</td>\n",
       "    </tr>\n",
       "  </tbody>\n",
       "</table>\n",
       "<p>6740 rows × 102 columns</p>\n",
       "</div>"
      ],
      "text/plain": [
       "                구급보고서번호 등록완료구분명 환자발생유형구분명   교통사고명 교통사고기타명     소방서명       서센터명  \\\n",
       "0     20224511302M00001    등록완료       질병외     운전자     NaN    완주소방서  삼례119안전센터   \n",
       "1     20224501101M00006    등록완료       질병외  오토바이사고     NaN  전주덕진소방서  금암119안전센터   \n",
       "2     20224501102M00004    등록완료       질병외  오토바이사고     NaN  전주덕진소방서  팔복119안전센터   \n",
       "...                 ...     ...       ...     ...     ...      ...        ...   \n",
       "6737  20204502102M04996    등록완료       질병외  오토바이사고     NaN  전주완산소방서  효자119안전센터   \n",
       "6738  20204501105M02811    등록완료       질병외     보행자     NaN  전주덕진소방서  전미119안전센터   \n",
       "6739  20204502104M02966    등록완료       질병외     보행자     NaN  전주완산소방서  노송119안전센터   \n",
       "\n",
       "     소방지역대명 구급활동구분명 헬리콥터펌뷸런스유무명  ...  현장거리2  재이송사유2  이송분류명 이송분류사유  시간단위기온  \\\n",
       "0       NaN    특수일반         NaN  ...    NaN     NaN     이송    NaN   -4.90   \n",
       "1       NaN    특수일반         NaN  ...    NaN     NaN     이송    NaN    1.70   \n",
       "2       NaN    특수일반         NaN  ...    NaN     NaN     이송    NaN    2.20   \n",
       "...     ...     ...         ...  ...    ...     ...    ...    ...     ...   \n",
       "6737    NaN    특수일반         NaN  ...    NaN     NaN     이송    NaN   -5.30   \n",
       "6738    NaN    특수일반         NaN  ...    NaN     NaN     이송    NaN   -3.70   \n",
       "6739    NaN    특수일반         NaN  ...    NaN     NaN     이송    NaN   -2.30   \n",
       "\n",
       "      시간단위강수량  시간단위풍속  시간단위풍향  시간단위습도 시간단위적설량  \n",
       "0         NaN    0.90   70.00   51.00     NaN  \n",
       "1         NaN    1.30  360.00   31.00     NaN  \n",
       "2         NaN    1.30  320.00   31.00     NaN  \n",
       "...       ...     ...     ...     ...     ...  \n",
       "6737      NaN    1.80  340.00   56.00    1.60  \n",
       "6738      NaN    0.20    0.00   52.00    1.40  \n",
       "6739      NaN    1.30  320.00   92.00    3.30  \n",
       "\n",
       "[6740 rows x 102 columns]"
      ]
     },
     "execution_count": 4,
     "metadata": {},
     "output_type": "execute_result"
    }
   ],
   "source": [
    "df = pd.read_csv('구급출동_전주_2020_2022.csv', encoding='cp949')\n",
    "df"
   ]
  },
  {
   "cell_type": "code",
   "execution_count": 5,
   "metadata": {},
   "outputs": [],
   "source": [
    "df['교통사고분류'] = '나머지'\n",
    "df.loc[df['교통사고명'] == '보행자','교통사고분류'] = '보행자'\n",
    "df.loc[df['교통사고명'] == '자전거사고','교통사고분류'] = '자전거'\n",
    "df.loc[df['교통사고명'] == '오토바이사고','교통사고분류'] = '오토바이'"
   ]
  },
  {
   "cell_type": "code",
   "execution_count": 13,
   "metadata": {},
   "outputs": [],
   "source": [
    "df = df[df['환자연령'] != 999]"
   ]
  },
  {
   "cell_type": "code",
   "execution_count": 15,
   "metadata": {},
   "outputs": [
    {
     "name": "stderr",
     "output_type": "stream",
     "text": [
      "c:\\Users\\yykyy\\anaconda3\\lib\\site-packages\\seaborn\\_core\\plot.py:941: UserWarning: Glyph 54872 (\\N{HANGUL SYLLABLE HWAN}) missing from current font.\n",
      "  self._figure.savefig(buffer, dpi=dpi * 2, format=\"png\", bbox_inches=\"tight\")\n",
      "c:\\Users\\yykyy\\anaconda3\\lib\\site-packages\\seaborn\\_core\\plot.py:941: UserWarning: Glyph 51088 (\\N{HANGUL SYLLABLE JA}) missing from current font.\n",
      "  self._figure.savefig(buffer, dpi=dpi * 2, format=\"png\", bbox_inches=\"tight\")\n",
      "c:\\Users\\yykyy\\anaconda3\\lib\\site-packages\\seaborn\\_core\\plot.py:941: UserWarning: Glyph 50672 (\\N{HANGUL SYLLABLE YEON}) missing from current font.\n",
      "  self._figure.savefig(buffer, dpi=dpi * 2, format=\"png\", bbox_inches=\"tight\")\n",
      "c:\\Users\\yykyy\\anaconda3\\lib\\site-packages\\seaborn\\_core\\plot.py:941: UserWarning: Glyph 47161 (\\N{HANGUL SYLLABLE RYEONG}) missing from current font.\n",
      "  self._figure.savefig(buffer, dpi=dpi * 2, format=\"png\", bbox_inches=\"tight\")\n",
      "c:\\Users\\yykyy\\anaconda3\\lib\\site-packages\\seaborn\\_core\\plot.py:941: UserWarning: Glyph 45208 (\\N{HANGUL SYLLABLE NA}) missing from current font.\n",
      "  self._figure.savefig(buffer, dpi=dpi * 2, format=\"png\", bbox_inches=\"tight\")\n",
      "c:\\Users\\yykyy\\anaconda3\\lib\\site-packages\\seaborn\\_core\\plot.py:941: UserWarning: Glyph 47672 (\\N{HANGUL SYLLABLE MEO}) missing from current font.\n",
      "  self._figure.savefig(buffer, dpi=dpi * 2, format=\"png\", bbox_inches=\"tight\")\n",
      "c:\\Users\\yykyy\\anaconda3\\lib\\site-packages\\seaborn\\_core\\plot.py:941: UserWarning: Glyph 51648 (\\N{HANGUL SYLLABLE JI}) missing from current font.\n",
      "  self._figure.savefig(buffer, dpi=dpi * 2, format=\"png\", bbox_inches=\"tight\")\n",
      "c:\\Users\\yykyy\\anaconda3\\lib\\site-packages\\seaborn\\_core\\plot.py:941: UserWarning: Glyph 50724 (\\N{HANGUL SYLLABLE O}) missing from current font.\n",
      "  self._figure.savefig(buffer, dpi=dpi * 2, format=\"png\", bbox_inches=\"tight\")\n",
      "c:\\Users\\yykyy\\anaconda3\\lib\\site-packages\\seaborn\\_core\\plot.py:941: UserWarning: Glyph 53664 (\\N{HANGUL SYLLABLE TO}) missing from current font.\n",
      "  self._figure.savefig(buffer, dpi=dpi * 2, format=\"png\", bbox_inches=\"tight\")\n",
      "c:\\Users\\yykyy\\anaconda3\\lib\\site-packages\\seaborn\\_core\\plot.py:941: UserWarning: Glyph 48148 (\\N{HANGUL SYLLABLE BA}) missing from current font.\n",
      "  self._figure.savefig(buffer, dpi=dpi * 2, format=\"png\", bbox_inches=\"tight\")\n",
      "c:\\Users\\yykyy\\anaconda3\\lib\\site-packages\\seaborn\\_core\\plot.py:941: UserWarning: Glyph 51060 (\\N{HANGUL SYLLABLE I}) missing from current font.\n",
      "  self._figure.savefig(buffer, dpi=dpi * 2, format=\"png\", bbox_inches=\"tight\")\n",
      "c:\\Users\\yykyy\\anaconda3\\lib\\site-packages\\seaborn\\_core\\plot.py:941: UserWarning: Glyph 48372 (\\N{HANGUL SYLLABLE BO}) missing from current font.\n",
      "  self._figure.savefig(buffer, dpi=dpi * 2, format=\"png\", bbox_inches=\"tight\")\n",
      "c:\\Users\\yykyy\\anaconda3\\lib\\site-packages\\seaborn\\_core\\plot.py:941: UserWarning: Glyph 54665 (\\N{HANGUL SYLLABLE HAENG}) missing from current font.\n",
      "  self._figure.savefig(buffer, dpi=dpi * 2, format=\"png\", bbox_inches=\"tight\")\n",
      "c:\\Users\\yykyy\\anaconda3\\lib\\site-packages\\seaborn\\_core\\plot.py:941: UserWarning: Glyph 51204 (\\N{HANGUL SYLLABLE JEON}) missing from current font.\n",
      "  self._figure.savefig(buffer, dpi=dpi * 2, format=\"png\", bbox_inches=\"tight\")\n",
      "c:\\Users\\yykyy\\anaconda3\\lib\\site-packages\\seaborn\\_core\\plot.py:941: UserWarning: Glyph 44144 (\\N{HANGUL SYLLABLE GEO}) missing from current font.\n",
      "  self._figure.savefig(buffer, dpi=dpi * 2, format=\"png\", bbox_inches=\"tight\")\n"
     ]
    },
    {
     "data": {
      "image/png": "[encoded data removed]",
      "text/plain": [
       "<seaborn._core.plot.Plot at 0x1d0982a2310>"
      ]
     },
     "execution_count": 15,
     "metadata": {
      "image/png": {
       "height": 378.25,
       "width": 509.15
      }
     },
     "output_type": "execute_result"
    }
   ],
   "source": [
    "(\n",
    "    so.Plot(df, x='환자연령')\n",
    "    .add(so.Bar(), so.Hist(binwidth=10))\n",
    "    .facet('교통사고분류')\n",
    ")"
   ]
  },
  {
   "cell_type": "code",
   "execution_count": 16,
   "metadata": {},
   "outputs": [
    {
     "data": {
      "text/plain": [
       "220"
      ]
     },
     "execution_count": 16,
     "metadata": {},
     "output_type": "execute_result"
    }
   ],
   "source": [
    "len(df[(df['교통사고분류']=='자전거')&(df['환자연령']<20)])"
   ]
  },
  {
   "cell_type": "code",
   "execution_count": null,
   "metadata": {},
   "outputs": [],
   "source": []
  },
  {
   "cell_type": "code",
   "execution_count": 19,
   "metadata": {},
   "outputs": [
    {
     "data": {
      "text/plain": [
       "332"
      ]
     },
     "execution_count": 19,
     "metadata": {},
     "output_type": "execute_result"
    }
   ],
   "source": [
    "len(df[(df['교통사고분류']=='자전거')&(df['환자연령']>=65)])"
   ]
  },
  {
   "cell_type": "code",
   "execution_count": 18,
   "metadata": {},
   "outputs": [
    {
     "data": {
      "text/plain": [
       "246"
      ]
     },
     "execution_count": 18,
     "metadata": {},
     "output_type": "execute_result"
    }
   ],
   "source": [
    "len(df[(df['교통사고분류']=='자전거')&(df['환자연령']>=70)])"
   ]
  },
  {
   "cell_type": "code",
   "execution_count": 22,
   "metadata": {},
   "outputs": [
    {
     "data": {
      "text/plain": [
       "<Axes: >"
      ]
     },
     "execution_count": 22,
     "metadata": {},
     "output_type": "execute_result"
    },
    {
     "data": {
      "image/png": "[encoded data removed]",
      "text/plain": [
       "<Figure size 640x480 with 1 Axes>"
      ]
     },
     "metadata": {
      "image/png": {
       "height": 413,
       "width": 556
      }
     },
     "output_type": "display_data"
    }
   ],
   "source": [
    "df[(df['교통사고분류']=='보행자')]['환자연령'].hist(bin)"
   ]
  },
  {
   "cell_type": "code",
   "execution_count": 20,
   "metadata": {},
   "outputs": [
    {
     "data": {
      "text/plain": [
       "303"
      ]
     },
     "execution_count": 20,
     "metadata": {},
     "output_type": "execute_result"
    }
   ],
   "source": [
    "len(df[(df['교통사고분류']=='보행자')&(df['환자연령']>=70)])"
   ]
  }
 ],
 "metadata": {
  "kernelspec": {
   "display_name": "Python 3",
   "language": "python",
   "name": "python3"
  },
  "language_info": {
   "codemirror_mode": {
    "name": "ipython",
    "version": 3
   },
   "file_extension": ".py",
   "mimetype": "text/x-python",
   "name": "python",
   "nbconvert_exporter": "python",
   "pygments_lexer": "ipython3",
   "version": "3.8.18"
  }
 },
 "nbformat": 4,
 "nbformat_minor": 2
}
